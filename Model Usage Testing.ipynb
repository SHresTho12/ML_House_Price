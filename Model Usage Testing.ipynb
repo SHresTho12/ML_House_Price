{
 "cells": [
  {
   "cell_type": "code",
   "execution_count": 1,
   "id": "225ef013",
   "metadata": {},
   "outputs": [],
   "source": [
    "from joblib import dump,load\n",
    "import numpy as np\n",
    "model = load('Dragon.joblib')"
   ]
  },
  {
   "cell_type": "code",
   "execution_count": 3,
   "id": "c8f96c00",
   "metadata": {},
   "outputs": [
    {
     "data": {
      "text/plain": [
       "array([31.075])"
      ]
     },
     "execution_count": 3,
     "metadata": {},
     "output_type": "execute_result"
    }
   ],
   "source": [
    "input = np.array([[-0.40162256, -0.50301218, -1.10420166, -0.27288841, -0.55288505,\n",
    "        1.06639878, -0.17451572, -0.17488404, -0.85823352, -0.80005984,\n",
    "       -0.2599843 ,  0.43362383, -0.95077619]])\n",
    "model.predict(input)"
   ]
  },
  {
   "cell_type": "code",
   "execution_count": null,
   "id": "256938cd",
   "metadata": {},
   "outputs": [],
   "source": []
  }
 ],
 "metadata": {
  "kernelspec": {
   "display_name": "Python 3 (ipykernel)",
   "language": "python",
   "name": "python3"
  },
  "language_info": {
   "codemirror_mode": {
    "name": "ipython",
    "version": 3
   },
   "file_extension": ".py",
   "mimetype": "text/x-python",
   "name": "python",
   "nbconvert_exporter": "python",
   "pygments_lexer": "ipython3",
   "version": "3.9.12"
  }
 },
 "nbformat": 4,
 "nbformat_minor": 5
}
